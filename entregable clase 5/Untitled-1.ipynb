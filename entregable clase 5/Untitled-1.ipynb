{
 "cells": [
  {
   "cell_type": "markdown",
   "metadata": {},
   "source": [
    "Calculadora Simple: Crea un programa que solicite al usuario dos números y una operación (suma, resta, multiplicación o división). Luego, utilizando estructuras condicionales (if, elif, else), realiza la operación seleccionada e imprime el resultado."
   ]
  },
  {
   "cell_type": "code",
   "execution_count": 15,
   "metadata": {},
   "outputs": [
    {
     "name": "stdout",
     "output_type": "stream",
     "text": [
      "La división de los dos numeros es:  6.0\n"
     ]
    }
   ],
   "source": [
    "num1= int(input(\"Por favor ingrese el primer numero: \"))\n",
    "num2= int(input(\"Por favor ingrese el segundo numero: \"))\n",
    "operacion= (input(\"ingrese la operación que desea realizar S/R/M/D: \"))\n",
    "S = (num1+num2)\n",
    "R = (num1-num2)\n",
    "M = (num1*num2)\n",
    "D= (num1/num2)\n",
    "if operacion == \"S\" :\n",
    "    print(\"La suma de los dos numeros es: \",S) \n",
    "elif operacion == \"R\" :\n",
    "    print(\"La resta de los dos numeros es: \", R)\n",
    "elif operacion == \"M\" :\n",
    "    print(\"La multiplicación de los dos numeros es: \", M)\n",
    "elif operacion == \"D\":\n",
    "    print(\"La división de los dos numeros es: \", D)\n",
    "else :\n",
    "    print(\"La operación no es valida\")\n"
   ]
  },
  {
   "cell_type": "markdown",
   "metadata": {},
   "source": [
    "Contador de Números Pares e Impares: Escribe un programa que recorra una lista de números del 1 al 20. Utilizando un bucle for, determina cuántos de estos números son pares y cuántos son impares. Al final, imprime la cantidad de números pares e impares."
   ]
  },
  {
   "cell_type": "code",
   "execution_count": 46,
   "metadata": {},
   "outputs": [
    {
     "name": "stdout",
     "output_type": "stream",
     "text": [
      "La cantidad de números pares es:  10\n",
      "La cantidad de números impares es:  10\n"
     ]
    }
   ],
   "source": [
    "numeros = list(range(1, 21))\n",
    "pares = 0\n",
    "impares = 0\n",
    "for num in numeros:\n",
    "    if num % 2 == 0:\n",
    "        pares += 1\n",
    "    else:\n",
    "        impares += 1\n",
    "\n",
    "print(\"La cantidad de números pares es: \", pares )\n",
    "print(\"La cantidad de números impares es: \", impares)"
   ]
  },
  {
   "cell_type": "markdown",
   "metadata": {},
   "source": [
    "Validación de Contraseña: Pide al usuario que ingrese una contraseña. Utiliza un bucle while para seguir solicitando la contraseña hasta que coincida con una contraseña predefinida (por ejemplo, \"python123\"). Muestra un mensaje de éxito cuando la contraseña es correcta."
   ]
  },
  {
   "cell_type": "code",
   "execution_count": 51,
   "metadata": {},
   "outputs": [
    {
     "name": "stdout",
     "output_type": "stream",
     "text": [
      "Contraseña incorrecta.Por favor vuelve a intentarlo\n",
      "Felicitaciones, puede ingresar \n"
     ]
    }
   ],
   "source": [
    "contraseña = input(\"Por favor ingrese una contraseña: \")\n",
    "contraseña_valida = \"clave123\"\n",
    "while contraseña != contraseña_valida:\n",
    "    print(\"Contraseña incorrecta.Por favor vuelve a intentarlo\")\n",
    "    contraseña = input(\"Por favor ingrese una contraseña: \")\n",
    "\n",
    "\n",
    "print (\"Felicitaciones, puede ingresar \")\n"
   ]
  }
 ],
 "metadata": {
  "kernelspec": {
   "display_name": "Python 3",
   "language": "python",
   "name": "python3"
  },
  "language_info": {
   "codemirror_mode": {
    "name": "ipython",
    "version": 3
   },
   "file_extension": ".py",
   "mimetype": "text/x-python",
   "name": "python",
   "nbconvert_exporter": "python",
   "pygments_lexer": "ipython3",
   "version": "3.12.0"
  }
 },
 "nbformat": 4,
 "nbformat_minor": 2
}
