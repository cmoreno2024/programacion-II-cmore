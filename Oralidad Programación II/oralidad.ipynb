{
 "cells": [
  {
   "cell_type": "code",
   "execution_count": 159,
   "metadata": {},
   "outputs": [],
   "source": [
    "class RopaDama():\n",
    "    def __init__(self, prenda, talla, color):\n",
    "        self.prenda = prenda\n",
    "        self.talla = talla\n",
    "        self.color = color\n",
    "    \n",
    "    def mostrar_detalle(self):\n",
    "        print(\"Usted eligio una \"+self.prenda ,\"en talle nro \"+self.talla ,\"y en color \"+ self.color)"
   ]
  },
  {
   "cell_type": "code",
   "execution_count": 161,
   "metadata": {},
   "outputs": [],
   "source": [
    "class SucursalCentro(RopaDama):\n",
    "    def __init__(self, prenda,talla,color, disponibilidad):\n",
    "        super().__init__(prenda,talla,color)\n",
    "        self.disponibilidad = disponibilidad\n",
    "    def leyenda(self):\n",
    "       print(\"Esta prenda \"+ self.disponibilidad ,\"esta dispobible en la sucursal Centro\")\n",
    "\n",
    "\n",
    "class SucursalShopping(RopaDama):\n",
    "    def __init__(self, prenda,talla,color, disponibilidad):\n",
    "        super().__init__(prenda,talla, color)\n",
    "        self.disponibilidad = disponibilidad\n",
    "    def leyenda(self):\n",
    "       print(\"Esta prenda \"+ self.disponibilidad ,\"esta dispobible en la sucursal Shopping\")\n",
    "    "
   ]
  },
  {
   "cell_type": "markdown",
   "metadata": {},
   "source": [
    "creando ejemplo de consultas"
   ]
  },
  {
   "cell_type": "code",
   "execution_count": 162,
   "metadata": {},
   "outputs": [
    {
     "name": "stdout",
     "output_type": "stream",
     "text": [
      "Usted eligio una Remera en talle nro Dos y en color Blanca\n",
      "None\n",
      "Usted eligio una Pantalon en talle nro Tres  y en color Azul\n",
      "None\n",
      "no\n",
      "Tres \n",
      "Esta prenda no esta dispobible en la sucursal Centro\n",
      "None\n",
      "Esta prenda si esta dispobible en la sucursal Shopping\n",
      "None\n"
     ]
    }
   ],
   "source": [
    "prenda1= SucursalCentro(\"Remera\", \"Dos\", \"Blanca\", \"no\")\n",
    "prenda2 = SucursalShopping (\"Pantalon\", \"Tres \", \"Azul\" , \"si\")\n",
    "print (prenda1.mostrar_detalle())\n",
    "print(prenda2.mostrar_detalle())\n",
    "print(prenda1.disponibilidad)\n",
    "print(prenda2.talla)\n",
    "print(SucursalCentro.leyenda(prenda1))\n",
    "print(SucursalShopping.leyenda(prenda2))"
   ]
  }
 ],
 "metadata": {
  "kernelspec": {
   "display_name": "Python 3",
   "language": "python",
   "name": "python3"
  },
  "language_info": {
   "codemirror_mode": {
    "name": "ipython",
    "version": 3
   },
   "file_extension": ".py",
   "mimetype": "text/x-python",
   "name": "python",
   "nbconvert_exporter": "python",
   "pygments_lexer": "ipython3",
   "version": "3.12.0"
  }
 },
 "nbformat": 4,
 "nbformat_minor": 2
}
