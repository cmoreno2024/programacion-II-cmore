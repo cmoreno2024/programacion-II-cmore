{
 "cells": [
  {
   "cell_type": "code",
   "execution_count": 91,
   "metadata": {},
   "outputs": [],
   "source": [
    "class RopaDama():\n",
    "    def __init__(self, prenda, talla, color):\n",
    "        self.prenda = prenda\n",
    "        self.talla = talla\n",
    "        self.color = color\n",
    "    \n",
    "    def mostrar_detalle(self):\n",
    "        print(\"Usted eligio la prenda:\"+ self.prenda,\"talle nro:\"+self.talla, \"en color:\"+ self.color)"
   ]
  },
  {
   "cell_type": "code",
   "execution_count": 92,
   "metadata": {},
   "outputs": [],
   "source": [
    "class Sucursal1(RopaDama):\n",
    "    nombre_sucursal1 = \"Sucursal Centro\"\n",
    "    def __init__(self, prenda,talla,color, disponibilidad):\n",
    "        super().__init__(prenda,talla,color)\n",
    "        self.disponibilidad = disponibilidad\n",
    "    def leyenda(self):\n",
    "        print((super().mostrar_detalle),(\"disponible: \"+ self.disponibilidad))\n",
    "\n",
    "\n",
    "class Sucursal2(RopaDama):\n",
    "    nombre_sucursal2= \"Sucursal Shopping\"\n",
    "    def __init__(self, prenda,talla,color, disponibilidad):\n",
    "        super().__init__(prenda,talla, color)\n",
    "        self.disponibilidad = disponibilidad\n",
    "    def leyenda1(self):\n",
    "        print ((super().mostrar_detalle),(\"disponible:\"+ self.disponibilidad))\n",
    "    "
   ]
  },
  {
   "cell_type": "markdown",
   "metadata": {},
   "source": [
    "creando prendas"
   ]
  },
  {
   "cell_type": "code",
   "execution_count": 94,
   "metadata": {},
   "outputs": [
    {
     "ename": "TypeError",
     "evalue": "can only concatenate str (not \"int\") to str",
     "output_type": "error",
     "traceback": [
      "\u001b[1;31m---------------------------------------------------------------------------\u001b[0m",
      "\u001b[1;31mTypeError\u001b[0m                                 Traceback (most recent call last)",
      "Cell \u001b[1;32mIn[94], line 3\u001b[0m\n\u001b[0;32m      1\u001b[0m prenda1\u001b[38;5;241m=\u001b[39m Sucursal1(\u001b[38;5;124m\"\u001b[39m\u001b[38;5;124mremera\u001b[39m\u001b[38;5;124m\"\u001b[39m, \u001b[38;5;241m2\u001b[39m, \u001b[38;5;124m\"\u001b[39m\u001b[38;5;124mblanca\u001b[39m\u001b[38;5;124m\"\u001b[39m, \u001b[38;5;124m\"\u001b[39m\u001b[38;5;124mNo\u001b[39m\u001b[38;5;124m\"\u001b[39m)\n\u001b[0;32m      2\u001b[0m prenda2 \u001b[38;5;241m=\u001b[39m Sucursal2 (\u001b[38;5;124m\"\u001b[39m\u001b[38;5;124mpantalon\u001b[39m\u001b[38;5;124m\"\u001b[39m, \u001b[38;5;124m\"\u001b[39m\u001b[38;5;124mtres \u001b[39m\u001b[38;5;124m\"\u001b[39m, \u001b[38;5;124m\"\u001b[39m\u001b[38;5;124mazul\u001b[39m\u001b[38;5;124m\"\u001b[39m , \u001b[38;5;124m\"\u001b[39m\u001b[38;5;124mSi\u001b[39m\u001b[38;5;124m\"\u001b[39m)\n\u001b[1;32m----> 3\u001b[0m \u001b[38;5;28mprint\u001b[39m (\u001b[43mprenda1\u001b[49m\u001b[38;5;241;43m.\u001b[39;49m\u001b[43mmostrar_detalle\u001b[49m\u001b[43m(\u001b[49m\u001b[43m)\u001b[49m)\n",
      "Cell \u001b[1;32mIn[91], line 8\u001b[0m, in \u001b[0;36mRopaDama.mostrar_detalle\u001b[1;34m(self)\u001b[0m\n\u001b[0;32m      7\u001b[0m \u001b[38;5;28;01mdef\u001b[39;00m \u001b[38;5;21mmostrar_detalle\u001b[39m(\u001b[38;5;28mself\u001b[39m):\n\u001b[1;32m----> 8\u001b[0m     \u001b[38;5;28mprint\u001b[39m(\u001b[38;5;124m\"\u001b[39m\u001b[38;5;124mUsted eligio la prenda:\u001b[39m\u001b[38;5;124m\"\u001b[39m\u001b[38;5;241m+\u001b[39m \u001b[38;5;28mself\u001b[39m\u001b[38;5;241m.\u001b[39mprenda,\u001b[38;5;124;43m\"\u001b[39;49m\u001b[38;5;124;43mtalle nro:\u001b[39;49m\u001b[38;5;124;43m\"\u001b[39;49m\u001b[38;5;241;43m+\u001b[39;49m\u001b[38;5;28;43mself\u001b[39;49m\u001b[38;5;241;43m.\u001b[39;49m\u001b[43mtalla\u001b[49m, \u001b[38;5;124m\"\u001b[39m\u001b[38;5;124men color:\u001b[39m\u001b[38;5;124m\"\u001b[39m\u001b[38;5;241m+\u001b[39m \u001b[38;5;28mself\u001b[39m\u001b[38;5;241m.\u001b[39mcolor)\n",
      "\u001b[1;31mTypeError\u001b[0m: can only concatenate str (not \"int\") to str"
     ]
    }
   ],
   "source": [
    "prenda1= Sucursal1(\"remera\", 2, \"blanca\", \"No\")\n",
    "prenda2 = Sucursal2 (\"pantalon\", \"tres \", \"azul\" , \"Si\")\n",
    "print (prenda1.mostrar_detalle())\n",
    "\n",
    "\n",
    "\n",
    "\n",
    "\n",
    "\n"
   ]
  }
 ],
 "metadata": {
  "kernelspec": {
   "display_name": "Python 3",
   "language": "python",
   "name": "python3"
  },
  "language_info": {
   "codemirror_mode": {
    "name": "ipython",
    "version": 3
   },
   "file_extension": ".py",
   "mimetype": "text/x-python",
   "name": "python",
   "nbconvert_exporter": "python",
   "pygments_lexer": "ipython3",
   "version": "3.12.0"
  }
 },
 "nbformat": 4,
 "nbformat_minor": 2
}
